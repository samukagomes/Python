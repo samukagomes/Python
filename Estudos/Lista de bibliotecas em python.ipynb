{
 "cells": [
  {
   "cell_type": "markdown",
   "id": "983afdc5",
   "metadata": {},
   "source": [
    "<h5> Confere as bibliotecas baixadas<h5>"
   ]
  },
  {
   "cell_type": "code",
   "execution_count": null,
   "id": "00318ae4",
   "metadata": {},
   "outputs": [],
   "source": [
    "pip freeze #> requirements.txt"
   ]
  },
  {
   "cell_type": "markdown",
   "id": "a3bb92cd",
   "metadata": {},
   "source": [
    "<h5>Formato numerico<h5>"
   ]
  },
  {
   "cell_type": "code",
   "execution_count": null,
   "id": "c0f2aa96",
   "metadata": {},
   "outputs": [],
   "source": [
    "import numpy"
   ]
  },
  {
   "cell_type": "markdown",
   "id": "c66d9641",
   "metadata": {},
   "source": [
    "<h5>Modelagem de dados<h5>"
   ]
  },
  {
   "cell_type": "code",
   "execution_count": null,
   "id": "65a0f623",
   "metadata": {},
   "outputs": [],
   "source": [
    "#modelagem de SCV, DB, JASON \n",
    "import pandas\n",
    "\n",
    "#conexão com o BD sq lite\n",
    "import sqlite3"
   ]
  },
  {
   "cell_type": "markdown",
   "id": "780f0b69",
   "metadata": {},
   "source": [
    "<h5>Graficos<h5>"
   ]
  },
  {
   "cell_type": "code",
   "execution_count": null,
   "id": "cd23e3a4",
   "metadata": {},
   "outputs": [],
   "source": [
    "#Graficos legais\n",
    "import matplotlib\n",
    "import matplotlib.pyplot as plt\n",
    "\n",
    "#Graficos legais turbinados\n",
    "import seaborn\n",
    "\n",
    "#grafico em tempo real com interação e construção de dashboard\n",
    "import plotly.graph_objects as go"
   ]
  },
  {
   "cell_type": "markdown",
   "id": "97f61582",
   "metadata": {},
   "source": [
    "<h5>Estatistica, machine learning, deep learning<h5>"
   ]
  },
  {
   "cell_type": "code",
   "execution_count": null,
   "id": "d4cacd30",
   "metadata": {},
   "outputs": [],
   "source": [
    "#Estatistica\n",
    "import statsmodels.api as sm\n",
    "\n",
    "#Series temporais\n",
    "from statsmodels.tsa.holtwinters import SimpleExpSmoothing\n",
    "\n",
    "#machine learning -> scikit-learning\n",
    "from sklearn.linear_model import LinearRegression\n",
    "from sklearn.model_selection import train_test_split\n",
    "\n",
    "#deep learning\n",
    "import tensorflow as tf\n",
    "from tensorflow.keras import datasets, layers, models"
   ]
  },
  {
   "cell_type": "markdown",
   "id": "845bbac5",
   "metadata": {},
   "source": [
    "<h5>Imagem<h5>"
   ]
  },
  {
   "cell_type": "code",
   "execution_count": null,
   "id": "2eda0490",
   "metadata": {},
   "outputs": [],
   "source": [
    "from PIL import Image"
   ]
  },
  {
   "cell_type": "markdown",
   "id": "8c91f1a1",
   "metadata": {},
   "source": [
    "<h5>Manipulação de sites<h5>"
   ]
  },
  {
   "cell_type": "code",
   "execution_count": 23,
   "id": "d7f96254",
   "metadata": {},
   "outputs": [],
   "source": [
    "import requests\n",
    "#manipulação de html e xml\n",
    "from bs4 import BeautifulSoup\n",
    "\n",
    "#Automatização de sites\n",
    "from selenium import webdriver\n",
    "#from webdriver_manager.chrome import ChromeDriverManager\n",
    "#from selenium.webdriver.common.by import By\n",
    "#from selenium.webdriver.chrome.service import Service\n",
    "#servico = Service(ChromeDriverManager().install())\n",
    "#navegador = webdriver.Chrome(service = servico)"
   ]
  },
  {
   "cell_type": "markdown",
   "id": "9f12abf9",
   "metadata": {},
   "source": [
    "<h5>Excel<h5>"
   ]
  },
  {
   "cell_type": "code",
   "execution_count": null,
   "id": "4c220d92",
   "metadata": {},
   "outputs": [],
   "source": [
    "from openpyxl import Workbook"
   ]
  },
  {
   "cell_type": "markdown",
   "id": "1e29af5f",
   "metadata": {},
   "source": [
    "<h5>Manipulação de mouse e teclado<h5>"
   ]
  },
  {
   "cell_type": "code",
   "execution_count": null,
   "id": "9d53cd56",
   "metadata": {},
   "outputs": [],
   "source": [
    "import pyautogui"
   ]
  }
 ],
 "metadata": {
  "kernelspec": {
   "display_name": "Python 3 (ipykernel)",
   "language": "python",
   "name": "python3"
  },
  "language_info": {
   "codemirror_mode": {
    "name": "ipython",
    "version": 3
   },
   "file_extension": ".py",
   "mimetype": "text/x-python",
   "name": "python",
   "nbconvert_exporter": "python",
   "pygments_lexer": "ipython3",
   "version": "3.9.13"
  }
 },
 "nbformat": 4,
 "nbformat_minor": 5
}
