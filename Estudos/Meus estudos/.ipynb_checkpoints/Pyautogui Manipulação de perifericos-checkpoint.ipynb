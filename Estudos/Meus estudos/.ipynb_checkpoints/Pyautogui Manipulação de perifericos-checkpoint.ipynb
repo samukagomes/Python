{
 "cells": [
  {
   "cell_type": "code",
   "execution_count": 1,
   "id": "db9a1cd1",
   "metadata": {},
   "outputs": [],
   "source": [
    "import pyautogui"
   ]
  },
  {
   "cell_type": "code",
   "execution_count": 2,
   "id": "fce55a8f",
   "metadata": {},
   "outputs": [
    {
     "data": {
      "text/plain": [
       "(1366, 768)"
      ]
     },
     "execution_count": 2,
     "metadata": {},
     "output_type": "execute_result"
    }
   ],
   "source": [
    "# Get the size of the primary monitor.\n",
    "screenWidth, screenHeight = pyautogui.size() \n",
    "screenWidth, screenHeight"
   ]
  },
  {
   "cell_type": "code",
   "execution_count": 6,
   "id": "0041e415",
   "metadata": {},
   "outputs": [
    {
     "data": {
      "text/plain": [
       "(1343, 8)"
      ]
     },
     "execution_count": 6,
     "metadata": {},
     "output_type": "execute_result"
    }
   ],
   "source": [
    "# Get the XY position of the mouse.\n",
    "currentMouseX, currentMouseY = pyautogui.position() \n",
    "currentMouseX, currentMouseY"
   ]
  },
  {
   "cell_type": "code",
   "execution_count": null,
   "id": "b949a1db",
   "metadata": {},
   "outputs": [],
   "source": [
    "# True if x & y are within the screen.\n",
    "pyautogui.onScreen(x, y)  "
   ]
  },
  {
   "cell_type": "code",
   "execution_count": 10,
   "id": "6ceacef1",
   "metadata": {},
   "outputs": [],
   "source": [
    "# Move the mouse to XY coordinates.\n",
    "pyautogui.moveTo(500, 500) "
   ]
  },
  {
   "cell_type": "code",
   "execution_count": 13,
   "id": "347cf6ba",
   "metadata": {},
   "outputs": [],
   "source": [
    "# Click the mouse.\n",
    "pyautogui.click()          \n",
    "# Move the mouse to XY coordinates and click it.\n",
    "pyautogui.click(100, 200)  \n",
    "# Find where button.png appears on the screen and click it.\n",
    "pyautogui.click('button.png') "
   ]
  },
  {
   "cell_type": "code",
   "execution_count": 9,
   "id": "a004898b",
   "metadata": {},
   "outputs": [],
   "source": [
    "# Move the mouse 400 pixels to the right of its current position.\n",
    "pyautogui.move(400, 0)\n",
    "# Double click the mouse.\n",
    "pyautogui.doubleClick()     \n",
    "# Use tweening/easing function to move mouse over 2 seconds.\n",
    "pyautogui.moveTo(500, 500, duration=2, tween=pyautogui.easeInOutQuad)  "
   ]
  },
  {
   "cell_type": "code",
   "execution_count": null,
   "id": "a4f9e956",
   "metadata": {},
   "outputs": [],
   "source": [
    "# drag mouse to XY\n",
    "pyautogui.dragTo(x, y, duration=num_seconds)  "
   ]
  },
  {
   "cell_type": "code",
   "execution_count": null,
   "id": "fd673f36",
   "metadata": {},
   "outputs": [],
   "source": [
    "# type with quarter-second pause in between each key\n",
    "pyautogui.write('Hello world!', interval=0.25)\n",
    "# Press the Esc key. All key names are in pyautogui.KEY_NAMES\n",
    "pyautogui.press('esc')     "
   ]
  },
  {
   "cell_type": "code",
   "execution_count": 14,
   "id": "950774f2",
   "metadata": {},
   "outputs": [],
   "source": [
    "# Press the Shift key down and hold it.\n",
    "with pyautogui.hold('shift'):  \n",
    "        # Press the left arrow key 4 times.\n",
    "        pyautogui.press(['left', 'left', 'left', 'left'])  "
   ]
  },
  {
   "cell_type": "code",
   "execution_count": null,
   "id": "3e544087",
   "metadata": {},
   "outputs": [],
   "source": [
    "# Shift key is released automatically.\n",
    "# Press the Ctrl-C hotkey combination.\n",
    "pyautogui.hotkey('ctrl', 'c') "
   ]
  },
  {
   "cell_type": "code",
   "execution_count": 15,
   "id": "202a27c8",
   "metadata": {
    "scrolled": true
   },
   "outputs": [
    {
     "data": {
      "text/plain": [
       "'OK'"
      ]
     },
     "execution_count": 15,
     "metadata": {},
     "output_type": "execute_result"
    }
   ],
   "source": [
    "# Make an alert box appear and pause the program until OK is clicked.\n",
    "pyautogui.alert('This is the message to display.') "
   ]
  },
  {
   "cell_type": "code",
   "execution_count": null,
   "id": "4653d0c4",
   "metadata": {},
   "outputs": [],
   "source": [
    "#alert box with bottons: Ok and Cancel\n",
    "pyautogui.confirm('This displays text and has an OK and Cancel button.')"
   ]
  },
  {
   "cell_type": "code",
   "execution_count": null,
   "id": "461511fb",
   "metadata": {},
   "outputs": [],
   "source": [
    "#alert box for text\n",
    "pyautogui.prompt('This lets the user type in a string and press OK.')"
   ]
  }
 ],
 "metadata": {
  "kernelspec": {
   "display_name": "Python 3 (ipykernel)",
   "language": "python",
   "name": "python3"
  },
  "language_info": {
   "codemirror_mode": {
    "name": "ipython",
    "version": 3
   },
   "file_extension": ".py",
   "mimetype": "text/x-python",
   "name": "python",
   "nbconvert_exporter": "python",
   "pygments_lexer": "ipython3",
   "version": "3.9.13"
  }
 },
 "nbformat": 4,
 "nbformat_minor": 5
}
