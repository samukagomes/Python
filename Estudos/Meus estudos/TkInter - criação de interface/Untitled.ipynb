{
 "cells": [
  {
   "cell_type": "code",
   "execution_count": 2,
   "id": "ef06ae11",
   "metadata": {},
   "outputs": [],
   "source": [
    "#Bibliotecas\n",
    "from tkinter import *\n",
    "from tkinter import ttk"
   ]
  },
  {
   "cell_type": "code",
   "execution_count": null,
   "id": "d10b5bb9",
   "metadata": {},
   "outputs": [],
   "source": [
    "#Criação da janela de interface\n",
    "window = Tk()\n",
    "\n",
    "#adiciona o titulo na pagina\n",
    "window.title(\"Projeto de Webscraping\")\n",
    "\n",
    "#Deixa atela aberta por tempo inderteminado\n",
    "window.mainloop()"
   ]
  },
  {
   "cell_type": "code",
   "execution_count": null,
   "id": "4056bcd4",
   "metadata": {},
   "outputs": [],
   "source": [
    "#Criação do botão\n",
    "#parametros: (Tela onde vai ser inserido, Texto interno, Função que ira executar)\n",
    "button = ttk.Button(window, text=\"Hello\", command=\"buttonpressed\")\n",
    "button.grid()"
   ]
  },
  {
   "cell_type": "code",
   "execution_count": null,
   "id": "e1bed14f",
   "metadata": {},
   "outputs": [],
   "source": []
  },
  {
   "cell_type": "code",
   "execution_count": null,
   "id": "5450c522",
   "metadata": {},
   "outputs": [],
   "source": []
  },
  {
   "cell_type": "code",
   "execution_count": null,
   "id": "539b4185",
   "metadata": {},
   "outputs": [],
   "source": []
  },
  {
   "cell_type": "code",
   "execution_count": null,
   "id": "c055345c",
   "metadata": {},
   "outputs": [],
   "source": []
  },
  {
   "cell_type": "code",
   "execution_count": null,
   "id": "e626d615",
   "metadata": {},
   "outputs": [],
   "source": []
  },
  {
   "cell_type": "code",
   "execution_count": null,
   "id": "714919c7",
   "metadata": {},
   "outputs": [],
   "source": []
  },
  {
   "cell_type": "code",
   "execution_count": null,
   "id": "8a474398",
   "metadata": {},
   "outputs": [],
   "source": []
  }
 ],
 "metadata": {
  "kernelspec": {
   "display_name": "Python 3 (ipykernel)",
   "language": "python",
   "name": "python3"
  },
  "language_info": {
   "codemirror_mode": {
    "name": "ipython",
    "version": 3
   },
   "file_extension": ".py",
   "mimetype": "text/x-python",
   "name": "python",
   "nbconvert_exporter": "python",
   "pygments_lexer": "ipython3",
   "version": "3.9.13"
  }
 },
 "nbformat": 4,
 "nbformat_minor": 5
}
