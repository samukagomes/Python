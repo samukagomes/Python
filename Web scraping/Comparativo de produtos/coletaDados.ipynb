{
 "cells": [
  {
   "cell_type": "code",
   "execution_count": 4,
   "id": "e329e9d1",
   "metadata": {},
   "outputs": [],
   "source": [
    "#Ferramentas para modelagem de dados\n",
    "import pandas as pd\n",
    "import numpy\n",
    "\n",
    "#ajuda para fazer pausas durante as requisições\n",
    "import time\n",
    "\n",
    "#Ferramentas para obter informações dos sites\n",
    "import requests\n",
    "from bs4 import BeautifulSoup as bfs\n",
    "\n",
    "#Ferramentas para navegação em sites\n",
    "from selenium import webdriver\n",
    "from webdriver_manager.chrome import ChromeDriverManager\n",
    "from selenium.webdriver.common.by import By\n",
    "from selenium.webdriver.chrome.service import Service\n",
    "\n",
    "\n",
    "class PesquisaSite():\n",
    "    def __init__(self, nomeProduto):\n",
    "        self.nomeProduto = nomeProduto\n",
    "\n",
    "    def iniciar_navegador(self):\n",
    "        #Instala o driver atual do google chrome e inicializa \n",
    "        servico = Service(ChromeDriverManager().install())\n",
    "        self.navegador = webdriver.Chrome(service = servico)\n",
    "    \n",
    "    def pesquisa_amz (self):\n",
    "        #entra e realiza a pesquisa no site\n",
    "        self.navegador.get('https://www.amazon.com.br/')\n",
    "        self.navegador.find_element('xpath', '//*[@id=\"twotabsearchtextbox\"]').send_keys(self.nomeProduto)\n",
    "        self.navegador.find_element('xpath', '//*[@id=\"twotabsearchtextbox\"]').submit()\n",
    "        \n",
    "        #tempo de pausa para abrir o site\n",
    "        time.sleep(2)\n",
    "    \n",
    "    def coleta_dados_amz(self):\n",
    "        #Armazena informações sobre o produto pesquisado\n",
    "        self.prod_amz = {'loja':[], 'nome':[], 'valor':[]}\n",
    "\n",
    "        #coleta informações\n",
    "        nome = list(self.navegador.find_elements('xpath', '//*[@class= \"a-size-base-plus a-color-base a-text-normal\"]'))\n",
    "        valor = list(self.navegador.find_elements('xpath', '//*[@class= \"a-price-whole\"]'))\n",
    "\n",
    "        #coleta nome da loja\n",
    "        for i in range(1,4):\n",
    "            self.prod_amz['loja'].append('Amazon')\n",
    "\n",
    "        #coleta nome dos produtos\n",
    "        for i in nome:\n",
    "            #se caso der erro, vai coletar a msg de erro\n",
    "            try:\n",
    "                if len(self.prod_amz['nome']) >= 3: break\n",
    "                self.prod_amz['nome'].append(i.text)\n",
    "            except:\n",
    "                self.prod_amz.append('Deu erro no numero'+str(i))\n",
    "       \n",
    "        #coleta valor dos produtos\n",
    "        for i in valor:\n",
    "            try:\n",
    "                if len(self.prod_amz['valor']) >= 3: break \n",
    "                self.prod_amz['valor'].append(i.text)\n",
    "            except:\n",
    "                print('erro')\n",
    "\n",
    "    def resultado_amz(self):\n",
    "        for i in self.prod_amz['loja']:\n",
    "            print(i)\n",
    "\n",
    "    def pesquisa_ali(self):\n",
    "        self.navegador.get('https://best.aliexpress.com/')\n",
    "        self.navegador.find_element('xpath', '//*[@class=\"_24EHh\"]').click()\n",
    "        self.navegador.find_element('xpath', '//*[@class=\"search-key\"]').send_keys(self.nomeProduto)\n",
    "        self.navegador.find_element('xpath', '//*[@class=\"search-key\"]').submit()\n",
    "\n",
    "        time.sleep(2)\n",
    "        self.prod_ali = []\n",
    "\n",
    "        for i in self.navegador.find_elements('xpath', '//*[@class=\"manhattan--content--1KpBbUi\"]'):\n",
    "            try:\n",
    "                if len(self.prod_ali) >= 3: break\n",
    "                self.prod_ali.append(i.text.split('\\n'))\n",
    "                #print(i.text.split('\\n'))\n",
    "            except:\n",
    "                print('Erro produto: '+ str(len(self.prod_ali)))\n",
    "\n",
    "    def resultado_ali(self):\n",
    "        for i in self.prod_ali:\n",
    "            print(str(i)+'\\n') \n",
    "\n",
    "    def fechar_navegador(self):\n",
    "        self.navegador.close\n",
    "\n",
    "    def dataFrame(self):\n",
    "        df = pd.DataFrame(self.prod_amz, columns= ['loja', 'nome', 'valor'])\n",
    "        df.head()\n",
    "\n",
    "\n",
    "produto = input('Escreva o nome do produto: ')\n",
    "novo = PesquisaSite(produto)\n",
    "novo.iniciar_navegador()\n",
    "novo.pesquisa_amz() \n",
    "novo.coleta_dados_amz()\n",
    "novo.fechar_navegador()\n",
    "novo.dataFrame()"
   ]
  },
  {
   "cell_type": "code",
   "execution_count": 1,
   "id": "b2460c3a",
   "metadata": {},
   "outputs": [],
   "source": [
    "#Ferramentas para modelagem de dados\n",
    "import pandas as pd\n",
    "import numpy\n",
    "\n",
    "#ajuda para fazer pausas durante as requisições\n",
    "import time\n",
    "\n",
    "#biblioteca para interface\n",
    "from tkinter import *\n",
    "from tkinter import ttk\n",
    "\n",
    "#Ferramentas para navegação em sites\n",
    "from selenium import webdriver\n",
    "from webdriver_manager.chrome import ChromeDriverManager\n",
    "from selenium.webdriver.common.by import By\n",
    "from selenium.webdriver.chrome.service import Service\n"
   ]
  },
  {
   "cell_type": "code",
   "execution_count": 2,
   "id": "e3c613d6",
   "metadata": {},
   "outputs": [
    {
     "name": "stderr",
     "output_type": "stream",
     "text": [
      "[WDM] - Downloading: 100%|██████████| 6.81M/6.81M [00:00<00:00, 10.6MB/s]\n"
     ]
    }
   ],
   "source": [
    "#Instala o driver atual do google chrome e inicializa \n",
    "servico = Service(ChromeDriverManager().install())\n",
    "navegador = webdriver.Chrome(service = servico)"
   ]
  },
  {
   "cell_type": "code",
   "execution_count": 3,
   "id": "e038f18d",
   "metadata": {},
   "outputs": [],
   "source": [
    "navegador.get('https://best.aliexpress.com/')\n",
    "navegador.find_element('xpath', '//*[@class=\"_24EHh\"]').click()\n",
    "navegador.find_element('xpath', '//*[@class=\"search-key\"]').send_keys('airdots')\n",
    "navegador.find_element('xpath', '//*[@class=\"search-key\"]').submit()"
   ]
  },
  {
   "cell_type": "code",
   "execution_count": 4,
   "id": "f8dd4f24",
   "metadata": {},
   "outputs": [],
   "source": [
    "prod_ali = {'loja': [], 'nome':[], 'valor':[]}\n",
    "\n",
    "nome= navegador.find_elements('xpath', '//*[@class=\"manhattan--titleText--WccSjUS\"]')\n",
    "valor= navegador.find_elements('xpath', '//*[@class=\"manhattan--price-sale--1CCSZfK\"]')\n",
    "\n",
    "#coleta o nome dp site\n",
    "for i in range(1, 4):\n",
    "    prod_ali['loja'].append('AliExpress')\n",
    "\n",
    "#coleta o nome dos produtos\n",
    "for i in nome:\n",
    "    try:\n",
    "        if len(prod_ali['nome']) >= 3: break\n",
    "        prod_ali['nome'].append(i.text)\n",
    "    except:\n",
    "        print('Erro produto')\n",
    "\n",
    "#coleta valor dos produtos\n",
    "for i in valor:\n",
    "    try:\n",
    "        if len(prod_ali['valor']) >=3: break\n",
    "        prod_ali['valor'].append(i.text)\n",
    "    except:\n",
    "        print('erro valor ali')"
   ]
  },
  {
   "cell_type": "code",
   "execution_count": 10,
   "id": "91faa9d1",
   "metadata": {},
   "outputs": [
    {
     "name": "stdout",
     "output_type": "stream",
     "text": [
      "['R$38,15', 'R$199,72', 'R$33,55']\n",
      "\n"
     ]
    }
   ],
   "source": [
    "print(str(prod_ali['valor'])+'\\n')"
   ]
  },
  {
   "cell_type": "code",
   "execution_count": 17,
   "id": "6854d637",
   "metadata": {},
   "outputs": [],
   "source": [
    "df = pd.DataFrame"
   ]
  },
  {
   "cell_type": "code",
   "execution_count": 10,
   "id": "1118999c",
   "metadata": {},
   "outputs": [],
   "source": [
    "a = {'loja':['a', 'b', 'c'], 'valor':[1,2,3]}\n",
    "b = {'loja':['d', 'e', 'f'], 'valor':[4,5,6]}\n",
    "c = {'loja':[], 'valor':[]}"
   ]
  },
  {
   "cell_type": "code",
   "execution_count": 2,
   "id": "a9dca419",
   "metadata": {},
   "outputs": [],
   "source": [
    "#cria a janela do programa\n",
    "window = Tk()\n",
    "#adiciona o titulo na pagina\n",
    "window.title(\"Projeto de Webscraping\")\n",
    "\n",
    "window.mainloop()"
   ]
  },
  {
   "cell_type": "code",
   "execution_count": null,
   "id": "48af0e12",
   "metadata": {},
   "outputs": [],
   "source": []
  }
 ],
 "metadata": {
  "kernelspec": {
   "display_name": "Python 3 (ipykernel)",
   "language": "python",
   "name": "python3"
  },
  "language_info": {
   "codemirror_mode": {
    "name": "ipython",
    "version": 3
   },
   "file_extension": ".py",
   "mimetype": "text/x-python",
   "name": "python",
   "nbconvert_exporter": "python",
   "pygments_lexer": "ipython3",
   "version": "3.9.13"
  }
 },
 "nbformat": 4,
 "nbformat_minor": 5
}
